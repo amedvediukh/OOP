{
 "cells": [
  {
   "cell_type": "code",
   "execution_count": 21,
   "metadata": {},
   "outputs": [
    {
     "name": "stdout",
     "output_type": "stream",
     "text": [
      "183\n"
     ]
    }
   ],
   "source": [
    "a = 85\n",
    "b = 98 # числова Змінна\n",
    "C = a + b\n",
    "print(C)"
   ]
  },
  {
   "cell_type": "code",
   "execution_count": 22,
   "metadata": {},
   "outputs": [
    {
     "name": "stdout",
     "output_type": "stream",
     "text": [
      "Перше значення:  True\n",
      "Вивід? True\n"
     ]
    }
   ],
   "source": [
    "print(\"Перше значення: \", True)\n",
    "print(f\"Вивід? {True}\")"
   ]
  },
  {
   "cell_type": "code",
   "execution_count": 23,
   "metadata": {},
   "outputs": [
    {
     "name": "stdout",
     "output_type": "stream",
     "text": [
      "88 є рівними 88\n",
      "945 різні значення 152\n"
     ]
    }
   ],
   "source": [
    "print(abs(-88), f\"є рівними {abs(88)}\")\n",
    "print(abs(945), f\"різні значення {abs(152)}\")"
   ]
  },
  {
   "cell_type": "code",
   "execution_count": 24,
   "metadata": {},
   "outputs": [
    {
     "name": "stdout",
     "output_type": "stream",
     "text": [
      "На позиції 0 знаходиться буква о\n",
      "На позиції 1 знаходиться буква b\n",
      "На позиції 2 знаходиться буква c\n"
     ]
    }
   ],
   "source": [
    "letters = [\"о\", \"b\", \"c\"]\n",
    "for i in range(len(letters)):\n",
    "    print(f\"На позиції {i} знаходиться буква {letters[i]}\")"
   ]
  },
  {
   "cell_type": "code",
   "execution_count": 25,
   "metadata": {},
   "outputs": [
    {
     "name": "stdout",
     "output_type": "stream",
     "text": [
      "Значить А=True\n"
     ]
    }
   ],
   "source": [
    "A = True\n",
    "print(\"Значить А=True\" if A else \"Значить А=False\")"
   ]
  },
  {
   "cell_type": "code",
   "execution_count": 26,
   "metadata": {},
   "outputs": [
    {
     "name": "stdout",
     "output_type": "stream",
     "text": [
      "division by zero\n",
      "А вот воно що!\n"
     ]
    }
   ],
   "source": [
    "A = 0\n",
    "try:\n",
    "    print(\"Що буде якщо\", 76/A, \"?\")\n",
    "except Exception as e:\n",
    "    print(e)\n",
    "finally:\n",
    "    print(\"А вот воно що!\")"
   ]
  },
  {
   "cell_type": "code",
   "execution_count": 27,
   "metadata": {},
   "outputs": [
    {
     "name": "stdout",
     "output_type": "stream",
     "text": [
      "# Р›Р°Р±РѕСЂР°С‚РѕСЂРЅР° СЂРѕР±РѕС‚Р° в„–2 - Р—РІС–С‚\n",
      "\n",
      "\n",
      "\n",
      "## РњРµС‚Р° СЂРѕР±РѕС‚Рё\n",
      "\n",
      "РќР°РІС‡РёС‚РёСЃСЏ РїСЂР°С†СЋРІР°С‚Рё Р· РѕСЃРЅРѕРІРЅРёРјРё С‚РёРїР°РјРё РґР°РЅРёС… Сѓ Python, Р·Р°СЃРІРѕС—С‚Рё Р·Р°СЃС‚РѕСЃСѓРІР°РЅРЅСЏ Р·РјС–РЅРЅРёС… СЂС–Р·РЅРёС… С‚РёРїС–РІ, Р° С‚Р°РєРѕР¶ РѕСЃРІРѕС—С‚Рё СЂРѕР±РѕС‚Сѓ Р· С†РёРєР»Р°РјРё, СѓРјРѕРІРЅРёРјРё РѕРїРµСЂР°С‚РѕСЂР°РјРё, РєРѕРЅСЃС‚СЂСѓРєС†С–С”СЋ try-except-finally, РєРѕРЅС‚РµРєСЃС‚РЅРёРјРё РјРµРЅРµРґР¶РµСЂР°РјРё С‚Р° Р»СЏРјР±РґР°-С„СѓРЅРєС†С–СЏРјРё.\n",
      "\n",
      "\n",
      "\n",
      "## Р’РёРєРѕРЅР°РЅС– Р·Р°РІРґР°РЅРЅСЏ\n",
      "\n",
      "\n",
      "\n",
      "1. РџРѕР·РЅР°Р№РѕРјРёРІСЃСЏ Р· РѕСЃРЅРѕРІРЅРёРјРё С‚РёРїР°РјРё РґР°РЅРёС…. РџРѕРїСЂР°РєРёС‚РёРєСѓРІР°РІСЃСЏ Р· РїСЂРѕСЃС‚РёРјРё Р·РјС–РЅРЅРёРјРё str С‚Р° int, СЃРїРёСЃРєР°РјРё list, РЅР°Р±РѕСЂР°РјРё set С‚Р° СЃР»РѕРІРЅРёРєР°РјРё dict:\n",
      "\n",
      "\n",
      "\n",
      "2. РІРёРєРѕРЅСѓРІР°РІ РѕР±С‡РёСЃР»РµРЅРЅСЏ \n"
     ]
    }
   ],
   "source": [
    "with open(\"README.md\", \"r\") as f:\n",
    "    for line in f:\n",
    "        print(line)"
   ]
  },
  {
   "cell_type": "code",
   "execution_count": 29,
   "metadata": {},
   "outputs": [
    {
     "name": "stdout",
     "output_type": "stream",
     "text": [
      "Ghjcnf функція: <function <lambda> at 0x000001C2E4F15EE0>\n",
      "Це її виклик: Цей код написав: Андрій Андрій\n"
     ]
    }
   ],
   "source": [
    "this_is_lambda = lambda first, last: f'Цей код написав: {first} {last}'\n",
    "print(\"Ghjcnf функція:\", this_is_lambda)\n",
    "print(\"Це її виклик:\", this_is_lambda('Андрій', 'Андрій'))"
   ]
  }
 ],
 "metadata": {
  "kernelspec": {
   "display_name": "Python 3",
   "language": "python",
   "name": "python3"
  },
  "language_info": {
   "codemirror_mode": {
    "name": "ipython",
    "version": 3
   },
   "file_extension": ".py",
   "mimetype": "text/x-python",
   "name": "python",
   "nbconvert_exporter": "python",
   "pygments_lexer": "ipython3",
   "version": "3.13.0"
  }
 },
 "nbformat": 4,
 "nbformat_minor": 2
}
