{
 "cells": [
  {
   "cell_type": "markdown",
   "metadata": {},
   "source": [
    "Створити клас який має Властивість, яка повертає стрічку"
   ]
  },
  {
   "cell_type": "code",
   "execution_count": 1,
   "metadata": {},
   "outputs": [
    {
     "name": "stdout",
     "output_type": "stream",
     "text": [
      "Ваше ім'я: Андрій\n"
     ]
    }
   ],
   "source": [
    "class StringPropertyExample:\n",
    "    def __init__(self, name):\n",
    "        self._name = name  # Приватний атрибут\n",
    "    \n",
    "    @property\n",
    "    def name(self):\n",
    "        \"\"\"Властивість, яка повертає стрічку.\"\"\"\n",
    "        return f\"Ваше ім'я: {self._name}\"\n",
    "\n",
    "# Створення об'єкта класу\n",
    "example = StringPropertyExample(\"Андрій\")\n",
    "\n",
    "# Використання властивості\n",
    "print(example.name)  # Виведе: Ваше ім'я: Андрій\n"
   ]
  }
 ],
 "metadata": {
  "kernelspec": {
   "display_name": "Python 3",
   "language": "python",
   "name": "python3"
  },
  "language_info": {
   "codemirror_mode": {
    "name": "ipython",
    "version": 3
   },
   "file_extension": ".py",
   "mimetype": "text/x-python",
   "name": "python",
   "nbconvert_exporter": "python",
   "pygments_lexer": "ipython3",
   "version": "3.13.0"
  }
 },
 "nbformat": 4,
 "nbformat_minor": 2
}
